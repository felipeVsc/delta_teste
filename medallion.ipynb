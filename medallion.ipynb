{
 "cells": [
  {
   "cell_type": "markdown",
   "metadata": {},
   "source": [
    "## Teste com arquitetura Medallion\n",
    "\n",
    "O objetivo aqui vai ser realizar estudos acerca da arquitetura Medallion.\n",
    "\n",
    "Iremos usar um sample de dados das APIs, e implementar uma arquitetura Medallion, contendo:\n",
    "\n",
    "* Bronze layer: Dados crus\n",
    "* Silver layer: Dados tratados, onde podem ocorrer mudança no nome dos campos, limpeza de arquivos corrompidos, tratamento dos dados e etc\n",
    "* Gold layer: Dados prontos para uma análise\n"
   ]
  },
  {
   "cell_type": "code",
   "execution_count": null,
   "metadata": {},
   "outputs": [],
   "source": [
    "from pyspark.sql import *\n",
    "from delta import *\n",
    "\n",
    "\n",
    "builder = SparkSession.builder.appName(\"helloworld\").config(\"spark.sql.extensions\",\"io.delta.sql.DeltaSparkSessionExtension\").config(\"spark.sql.catalog.spark_catalog\",\"org.apache.spark.sql.delta.catalog.DeltaCatalog\")\n",
    "spark = configure_spark_with_delta_pip(builder).getOrCreate()\n"
   ]
  }
 ],
 "metadata": {
  "language_info": {
   "name": "python"
  }
 },
 "nbformat": 4,
 "nbformat_minor": 2
}
