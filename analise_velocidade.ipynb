{
 "cells": [
  {
   "cell_type": "markdown",
   "metadata": {},
   "source": [
    "## Exemplo prático com Delta Lake (on-premise)\n",
    "\n",
    "* Os dados utilizados foram coletados na coleta atual\n",
    "* Realizaremos o armazenamento dos dados em uma arquitetura Medallion\n",
    "* O objetivo vai ser replicar a análise de velocidade de RJ vs CWB que temos no artigo\n"
   ]
  },
  {
   "cell_type": "markdown",
   "metadata": {},
   "source": [
    "### Passo a passo\n",
    "\n",
    "Primeiramente iremos instanciar o Spark + Delta e definir os caminhos para nossa arquitetura Medallion.\n",
    "\n",
    "Após isso iremos ler nossos arquivos de entrada com o Spark. Nesse caso teremos DataFrames do RJ e de CWB."
   ]
  },
  {
   "cell_type": "code",
   "execution_count": 5,
   "metadata": {},
   "outputs": [
    {
     "name": "stdout",
     "output_type": "stream",
     "text": [
      "3.5.0\n"
     ]
    }
   ],
   "source": [
    "from pyspark.sql import *\n",
    "from delta import *\n",
    "\n",
    "builder = SparkSession.builder.appName(\"velocidade_teste\").config(\"spark.sql.extensions\",\"io.delta.sql.DeltaSparkSessionExtension\").config(\"spark.sql.catalog.spark_catalog\",\"org.apache.spark.sql.delta.catalog.DeltaCatalog\")\n",
    "spark = configure_spark_with_delta_pip(builder).getOrCreate()\n",
    "\n",
    "\n",
    "INPUT_PATH = \"/home/felipe/code/deltalake/dados/\"\n",
    "BRONZE_PATH = \"/home/felipe/code/deltalake/lake/bronze/raw\"\n",
    "SILVER_PATH = \"/home/felipe/code/deltalake/lake/silver/processed\"\n",
    "GOLD_PATH = \"/home/felipe/code/deltalake/lake/gold/final\"\n",
    "\n",
    "print(spark.version)"
   ]
  },
  {
   "cell_type": "code",
   "execution_count": 14,
   "metadata": {},
   "outputs": [
    {
     "name": "stdout",
     "output_type": "stream",
     "text": [
      "+---------+---------+-------------+---------+----------+-----+\n",
      "| latitude|longitude|tempo_captura|id_onibus|velocidade|linha|\n",
      "+---------+---------+-------------+---------+----------+-----+\n",
      "|-22,94427|-43,18129|1707252599000|   A71588|        53|  100|\n",
      "|-23,01032|-43,30469|1707251542000|   A41063|        43|  309|\n",
      "| -22,9595|-43,19084|1707252590000|   A41218|         0|  108|\n",
      "|-22,96402|-43,20373|1707252596000|   A41018|         0|  463|\n",
      "|-22,95296|-43,17615|1707252587000|   A41019|        10|  100|\n",
      "|-23,00897|-43,30439|1707251572000|   A41063|         0|  309|\n",
      "|-22,91231|-43,20969|1707252590000|   A41073|         0|  112|\n",
      "|-22,93514|-43,20948|1707252593000|   A41245|        42|  112|\n",
      "|-22,94494|-43,18229|1707252597000|   C41389|        23|  309|\n",
      "|-22,88665|-43,22967|1707252591000|   C41386|         6|  315|\n",
      "|-23,00897|-43,30439|1707251602000|   A41063|         0|  309|\n",
      "|-22,90711|-43,21092|1707252594000|   A41085|        29|  463|\n",
      "|-23,00895|-43,30438|1707251632000|   A41063|         0|  309|\n",
      "|-23,03048|-43,47929|1707252593000|   C41390|         0|  315|\n",
      "| -23,0266|-43,46151|1707252596000|   C41348|        50|  315|\n",
      "|-22,98612|-43,21147|1707252534000|   C41391|        40|  553|\n",
      "|-22,89984|-43,22531|1707252592000|   A41133|         0|  472|\n",
      "| -23,0094|-43,30297|1707251662000|   A41063|        49|  309|\n",
      "| -23,0222|-43,48243|1707252595000|   C41355|         0|  315|\n",
      "|-22,97873| -43,2244|1707252596000|   A41291|         0|  110|\n",
      "+---------+---------+-------------+---------+----------+-----+\n",
      "only showing top 20 rows\n",
      "\n"
     ]
    }
   ],
   "source": [
    "rj_df = spark.read.format(\"parquet\").option(\"inferSchema\",\"true\").option(\"header\",\"true\").load(path=\"/home/felipe/code/deltalake/teste/rj/1707850357.3031645.parquet\")\n",
    "\n",
    "rj_df.show()"
   ]
  },
  {
   "cell_type": "code",
   "execution_count": 10,
   "metadata": {},
   "outputs": [
    {
     "name": "stdout",
     "output_type": "stream",
     "text": [
      "+---------+---------+-------------+---------+----------+-------+----------+-----+\n",
      "| latitude|longitude|tempo_captura|id_onibus|velocidade|sentido|   direcao|linha|\n",
      "+---------+---------+-------------+---------+----------+-------+----------+-----+\n",
      "|-48.10842|-15.92126|1701355514000|   340260|      0.28|  VOLTA|80.9000015|     |\n",
      "|-48.12325|-15.89951|1706128074000|   339784|       0.0|  VOLTA|       0.0|     |\n",
      "|-48.12391|-15.90059|1706315254000|   340073|       0.0|  VOLTA|       0.0|372.9|\n",
      "| -47.9946|-15.87532|1706551160000|   337846|       0.0|    IDA|333.434948|     |\n",
      "|-48.02361|-15.87496|1706636961000|   339105|       0.0|    IDA|      90.0|     |\n",
      "|-47.93532|-15.78702|1706644931000|   335771|      8.61|  VOLTA|35.2276684|0.844|\n",
      "|-48.10898|-15.92114|1706654234000|   337838|       0.0|    IDA|150.945395|     |\n",
      "|-48.12296|-15.89952|1706656423000|   336343|       0.0|    IDA|321.340191|     |\n",
      "|-47.90662|-15.73606|1706702948000|   337480|       0.0|  VOLTA|196.699244|     |\n",
      "|-48.10886|-15.92173|1706705960000|   337161|       0.0|    IDA|147.528807|     |\n",
      "|-47.90396|-15.78481|1706709995000|   337498|       0.0|  VOLTA|295.898851|     |\n",
      "|-48.12304|-15.89957|1706710247000|   340171|       0.0|  VOLTA|36.8698976|     |\n",
      "|-48.10745|-15.92131|1706713338000|   339431|       0.0|    IDA|160.709953|     |\n",
      "|-48.10841|-15.92113|1706714846000|   340871|       0.0|  VOLTA|240.255118|     |\n",
      "|-48.12195| -15.8996|1706716172000|   339741|       0.0|    IDA|45.3558698|     |\n",
      "|-48.10893|-15.92192|1706716502000|   337226|       0.0|    IDA|327.994616|     |\n",
      "|-48.10888|-15.92193|1706716876000|   337668|       0.0|  VOLTA|148.736268|     |\n",
      "|-47.90353|-15.78424|1706716933000|   335754|      0.28|  VOLTA|206.565051|373.2|\n",
      "|-48.12206|-15.89962|1706722160000|   340812|       0.0|    IDA|345.963756|     |\n",
      "| -48.1084|-15.92111|1706722224000|   337277|       0.0|    IDA|      45.0|     |\n",
      "+---------+---------+-------------+---------+----------+-------+----------+-----+\n",
      "only showing top 20 rows\n",
      "\n"
     ]
    }
   ],
   "source": [
    "bsb_df = spark.read.format(\"parquet\").option(\"inferSchema\",\"true\").option(\"header\",\"true\").load(f\"{INPUT_PATH}/df_micro/\")\n",
    "\n",
    "bsb_df.show()"
   ]
  },
  {
   "cell_type": "markdown",
   "metadata": {},
   "source": [
    "Agora iremos salvar esses DataFrames como Delta Tables em seus respectivos níveis Bronze"
   ]
  },
  {
   "cell_type": "code",
   "execution_count": 15,
   "metadata": {},
   "outputs": [
    {
     "name": "stderr",
     "output_type": "stream",
     "text": [
      "24/02/13 15:53:11 WARN MemoryManager: Total allocation exceeds 95,00% (1.020.054.720 bytes) of heap memory\n",
      "Scaling row group sizes to 95,00% for 8 writers\n",
      "24/02/13 15:53:11 WARN MemoryManager: Total allocation exceeds 95,00% (1.020.054.720 bytes) of heap memory\n",
      "Scaling row group sizes to 84,44% for 9 writers\n",
      "24/02/13 15:53:11 WARN MemoryManager: Total allocation exceeds 95,00% (1.020.054.720 bytes) of heap memory\n",
      "Scaling row group sizes to 76,00% for 10 writers\n",
      "24/02/13 15:53:11 WARN MemoryManager: Total allocation exceeds 95,00% (1.020.054.720 bytes) of heap memory\n",
      "Scaling row group sizes to 84,44% for 9 writers\n",
      "24/02/13 15:53:11 WARN MemoryManager: Total allocation exceeds 95,00% (1.020.054.720 bytes) of heap memory\n",
      "Scaling row group sizes to 95,00% for 8 writers\n",
      "24/02/13 15:53:12 WARN SparkStringUtils: Truncated the string representation of a plan since it was too large. This behavior can be adjusted by setting 'spark.sql.debug.maxToStringFields'.\n",
      "                                                                                \r"
     ]
    }
   ],
   "source": [
    "\n",
    "bsb_df.write.format(\"delta\").saveAsTable(\"bronze_df\")"
   ]
  },
  {
   "cell_type": "code",
   "execution_count": 16,
   "metadata": {},
   "outputs": [],
   "source": [
    "rj_df.write.format(\"delta\").saveAsTable(\"bronze_rj\")"
   ]
  },
  {
   "cell_type": "markdown",
   "metadata": {},
   "source": [
    "Podemos visualizar elas já como DeltaTables buscando pelo nome que salvamos"
   ]
  },
  {
   "cell_type": "code",
   "execution_count": 17,
   "metadata": {},
   "outputs": [
    {
     "name": "stdout",
     "output_type": "stream",
     "text": [
      "+---------+---------+-------------+---------+----------+-----+\n",
      "| latitude|longitude|tempo_captura|id_onibus|velocidade|linha|\n",
      "+---------+---------+-------------+---------+----------+-----+\n",
      "|-22,94427|-43,18129|1707252599000|   A71588|        53|  100|\n",
      "|-23,01032|-43,30469|1707251542000|   A41063|        43|  309|\n",
      "| -22,9595|-43,19084|1707252590000|   A41218|         0|  108|\n",
      "|-22,96402|-43,20373|1707252596000|   A41018|         0|  463|\n",
      "|-22,95296|-43,17615|1707252587000|   A41019|        10|  100|\n",
      "|-23,00897|-43,30439|1707251572000|   A41063|         0|  309|\n",
      "|-22,91231|-43,20969|1707252590000|   A41073|         0|  112|\n",
      "|-22,93514|-43,20948|1707252593000|   A41245|        42|  112|\n",
      "|-22,94494|-43,18229|1707252597000|   C41389|        23|  309|\n",
      "|-22,88665|-43,22967|1707252591000|   C41386|         6|  315|\n",
      "|-23,00897|-43,30439|1707251602000|   A41063|         0|  309|\n",
      "|-22,90711|-43,21092|1707252594000|   A41085|        29|  463|\n",
      "|-23,00895|-43,30438|1707251632000|   A41063|         0|  309|\n",
      "|-23,03048|-43,47929|1707252593000|   C41390|         0|  315|\n",
      "| -23,0266|-43,46151|1707252596000|   C41348|        50|  315|\n",
      "|-22,98612|-43,21147|1707252534000|   C41391|        40|  553|\n",
      "|-22,89984|-43,22531|1707252592000|   A41133|         0|  472|\n",
      "| -23,0094|-43,30297|1707251662000|   A41063|        49|  309|\n",
      "| -23,0222|-43,48243|1707252595000|   C41355|         0|  315|\n",
      "|-22,97873| -43,2244|1707252596000|   A41291|         0|  110|\n",
      "+---------+---------+-------------+---------+----------+-----+\n",
      "only showing top 20 rows\n",
      "\n"
     ]
    }
   ],
   "source": [
    "rj_delta = spark.read.format(\"delta\").table(\"bronze_rj\")\n",
    "rj_delta.show()"
   ]
  },
  {
   "cell_type": "code",
   "execution_count": 18,
   "metadata": {},
   "outputs": [
    {
     "name": "stdout",
     "output_type": "stream",
     "text": [
      "+---------+---------+-------------+---------+----------+-------+----------+-----+\n",
      "| latitude|longitude|tempo_captura|id_onibus|velocidade|sentido|   direcao|linha|\n",
      "+---------+---------+-------------+---------+----------+-------+----------+-----+\n",
      "|-48.10842|-15.92126|1701355514000|   340260|      0.28|  VOLTA|80.9000015|     |\n",
      "|-48.12325|-15.89951|1706128074000|   339784|       0.0|  VOLTA|       0.0|     |\n",
      "|-48.12391|-15.90059|1706315254000|   340073|       0.0|  VOLTA|       0.0|372.9|\n",
      "| -47.9946|-15.87532|1706551160000|   337846|       0.0|    IDA|333.434948|     |\n",
      "|-48.02361|-15.87496|1706636961000|   339105|       0.0|    IDA|      90.0|     |\n",
      "|-47.93532|-15.78702|1706644931000|   335771|      8.61|  VOLTA|35.2276684|0.844|\n",
      "|-48.10898|-15.92114|1706654234000|   337838|       0.0|    IDA|150.945395|     |\n",
      "|-48.12296|-15.89952|1706656423000|   336343|       0.0|    IDA|321.340191|     |\n",
      "|-47.90362|-15.78452|1706700515000|   337773|       0.0|  VOLTA|       0.0|     |\n",
      "|-47.90636|-15.73571|1706700582000|   336904|       0.0|  VOLTA|338.765107|     |\n",
      "|-47.90788|-15.73639|1706702801000|   340367|       0.0|  VOLTA|158.552263|     |\n",
      "|-47.90662|-15.73606|1706702948000|   337480|       0.0|  VOLTA|196.699244|     |\n",
      "|-47.90773|-15.73636|1706705387000|   335827|       0.0|  VOLTA|194.036243|     |\n",
      "|-48.05695|-16.03763|1706705527000|   339709|       0.0|  VOLTA|214.899347|     |\n",
      "|-48.10886|-15.92173|1706705960000|   337161|       0.0|    IDA|147.528807|     |\n",
      "|-48.05573|-15.91263|1706708228000|   337218|       0.0|  VOLTA|60.8025139|     |\n",
      "|-47.90396|-15.78481|1706709995000|   337498|       0.0|  VOLTA|295.898851|     |\n",
      "|-48.12304|-15.89957|1706710247000|   340171|       0.0|  VOLTA|36.8698976|     |\n",
      "|-48.10745|-15.92131|1706713338000|   339431|       0.0|    IDA|160.709953|     |\n",
      "|-48.05567| -15.9133|1706714629000|   339512|       0.0|    IDA|33.6900675|     |\n",
      "+---------+---------+-------------+---------+----------+-------+----------+-----+\n",
      "only showing top 20 rows\n",
      "\n"
     ]
    }
   ],
   "source": [
    "bsb_delta = spark.read.format(\"delta\").table(\"bronze_df\")\n",
    "bsb_delta.show()"
   ]
  },
  {
   "cell_type": "markdown",
   "metadata": {},
   "source": [
    "Para passarmos de camada, iremos realizar simples tratamentos e mudanças apenas para fins de demonstração:\n",
    "\n",
    "* Renomear os onibus_id para o padrão do BRBus\n"
   ]
  },
  {
   "cell_type": "code",
   "execution_count": 19,
   "metadata": {},
   "outputs": [],
   "source": [
    "from pyspark.sql.functions import udf\n",
    "from pyspark.sql.types import StringType\n",
    "\n",
    "def changeOnibusIdRio(onibus_id):\n",
    "    return f\"RIO_{onibus_id}\"\n",
    "\n",
    "def changeOnibusIdBSB(onibus_id):\n",
    "    return f\"BSB_{onibus_id}\"\n",
    "\n",
    "udf_transformBusIdRio = udf(changeOnibusIdRio,StringType())\n",
    "udf_transformBusIdBSB = udf(changeOnibusIdBSB,StringType())\n",
    "\n",
    "rj_df_busid = rj_delta.withColumn(\"bus_id\", udf_transformBusIdRio(rj_delta[\"id_onibus\"]))\n",
    "bsb_df_busid = bsb_delta.withColumn(\"bus_id\", udf_transformBusIdBSB(bsb_delta[\"id_onibus\"]))\n"
   ]
  },
  {
   "cell_type": "markdown",
   "metadata": {},
   "source": [
    "Demonstração das novas tabelas:"
   ]
  },
  {
   "cell_type": "code",
   "execution_count": 20,
   "metadata": {},
   "outputs": [
    {
     "name": "stdout",
     "output_type": "stream",
     "text": [
      "+---------+---------+-------------+---------+----------+-----+----------+\n",
      "| latitude|longitude|tempo_captura|id_onibus|velocidade|linha|    bus_id|\n",
      "+---------+---------+-------------+---------+----------+-----+----------+\n",
      "|-22,94427|-43,18129|1707252599000|   A71588|        53|  100|RIO_A71588|\n",
      "|-23,01032|-43,30469|1707251542000|   A41063|        43|  309|RIO_A41063|\n",
      "| -22,9595|-43,19084|1707252590000|   A41218|         0|  108|RIO_A41218|\n",
      "|-22,96402|-43,20373|1707252596000|   A41018|         0|  463|RIO_A41018|\n",
      "|-22,95296|-43,17615|1707252587000|   A41019|        10|  100|RIO_A41019|\n",
      "|-23,00897|-43,30439|1707251572000|   A41063|         0|  309|RIO_A41063|\n",
      "|-22,91231|-43,20969|1707252590000|   A41073|         0|  112|RIO_A41073|\n",
      "|-22,93514|-43,20948|1707252593000|   A41245|        42|  112|RIO_A41245|\n",
      "|-22,94494|-43,18229|1707252597000|   C41389|        23|  309|RIO_C41389|\n",
      "|-22,88665|-43,22967|1707252591000|   C41386|         6|  315|RIO_C41386|\n",
      "|-23,00897|-43,30439|1707251602000|   A41063|         0|  309|RIO_A41063|\n",
      "|-22,90711|-43,21092|1707252594000|   A41085|        29|  463|RIO_A41085|\n",
      "|-23,00895|-43,30438|1707251632000|   A41063|         0|  309|RIO_A41063|\n",
      "|-23,03048|-43,47929|1707252593000|   C41390|         0|  315|RIO_C41390|\n",
      "| -23,0266|-43,46151|1707252596000|   C41348|        50|  315|RIO_C41348|\n",
      "|-22,98612|-43,21147|1707252534000|   C41391|        40|  553|RIO_C41391|\n",
      "|-22,89984|-43,22531|1707252592000|   A41133|         0|  472|RIO_A41133|\n",
      "| -23,0094|-43,30297|1707251662000|   A41063|        49|  309|RIO_A41063|\n",
      "| -23,0222|-43,48243|1707252595000|   C41355|         0|  315|RIO_C41355|\n",
      "|-22,97873| -43,2244|1707252596000|   A41291|         0|  110|RIO_A41291|\n",
      "+---------+---------+-------------+---------+----------+-----+----------+\n",
      "only showing top 20 rows\n",
      "\n"
     ]
    }
   ],
   "source": [
    "rj_df_busid.show()"
   ]
  },
  {
   "cell_type": "markdown",
   "metadata": {},
   "source": [
    "Salvando na Silver"
   ]
  },
  {
   "cell_type": "code",
   "execution_count": 27,
   "metadata": {},
   "outputs": [
    {
     "name": "stderr",
     "output_type": "stream",
     "text": [
      "24/02/13 16:23:56 WARN MemoryManager: Total allocation exceeds 95,00% (1.020.054.720 bytes) of heap memory\n",
      "Scaling row group sizes to 95,00% for 8 writers\n",
      "24/02/13 16:23:56 WARN MemoryManager: Total allocation exceeds 95,00% (1.020.054.720 bytes) of heap memory\n",
      "Scaling row group sizes to 84,44% for 9 writers\n",
      "24/02/13 16:23:56 WARN MemoryManager: Total allocation exceeds 95,00% (1.020.054.720 bytes) of heap memory\n",
      "Scaling row group sizes to 95,00% for 8 writers\n"
     ]
    }
   ],
   "source": [
    "rj_df_busid.write.format(\"delta\").saveAsTable(\"silver_rj\")\n",
    "bsb_df_busid.write.format(\"delta\").saveAsTable(\"silver_bsb\")"
   ]
  },
  {
   "cell_type": "markdown",
   "metadata": {},
   "source": [
    "Por fim, iremos passar para a camada gold, onde teremos:\n",
    "\n",
    "* Uma visualização das velocidades\n",
    "* limpeza de velocidades menores/iguais a 0 ou maiores que 90\n",
    "\n",
    "Essa limpeza poderia ter sido feita na Silver, porém, com intuito de manter essas velocidades para outrs tipos de análises (outliers, por exemplo), busquei realizar essa ultima etapa de limpeza na Gold"
   ]
  },
  {
   "cell_type": "code",
   "execution_count": 38,
   "metadata": {},
   "outputs": [
    {
     "name": "stderr",
     "output_type": "stream",
     "text": [
      "24/02/13 16:30:29 WARN MemoryManager: Total allocation exceeds 95,00% (1.020.054.720 bytes) of heap memory\n",
      "Scaling row group sizes to 95,00% for 8 writers\n",
      "24/02/13 16:30:29 WARN MemoryManager: Total allocation exceeds 95,00% (1.020.054.720 bytes) of heap memory\n",
      "Scaling row group sizes to 84,44% for 9 writers\n",
      "24/02/13 16:30:29 WARN MemoryManager: Total allocation exceeds 95,00% (1.020.054.720 bytes) of heap memory\n",
      "Scaling row group sizes to 76,00% for 10 writers\n",
      "24/02/13 16:30:29 WARN MemoryManager: Total allocation exceeds 95,00% (1.020.054.720 bytes) of heap memory\n",
      "Scaling row group sizes to 84,44% for 9 writers\n",
      "24/02/13 16:30:29 WARN MemoryManager: Total allocation exceeds 95,00% (1.020.054.720 bytes) of heap memory\n",
      "Scaling row group sizes to 95,00% for 8 writers\n"
     ]
    },
    {
     "name": "stdout",
     "output_type": "stream",
     "text": [
      "+----------+\n",
      "|velocidade|\n",
      "+----------+\n",
      "|        53|\n",
      "|        43|\n",
      "|        10|\n",
      "|        42|\n",
      "|        23|\n",
      "|         6|\n",
      "|        29|\n",
      "|        50|\n",
      "|        40|\n",
      "|        49|\n",
      "|        63|\n",
      "|        16|\n",
      "|        29|\n",
      "|         1|\n",
      "|         8|\n",
      "|        68|\n",
      "|         3|\n",
      "|        18|\n",
      "|        40|\n",
      "|        55|\n",
      "+----------+\n",
      "only showing top 20 rows\n",
      "\n"
     ]
    }
   ],
   "source": [
    "def cleanVelocity(df):\n",
    "    return df.filter((df.velocidade >0) & (df.velocidade<90))\n",
    "\n",
    "rio = spark.read.format(\"delta\").table(\"silver_rj\")\n",
    "brasilia = spark.read.format(\"delta\").table(\"silver_bsb\")\n",
    "\n",
    "rio = cleanVelocity(rio)\n",
    "brasilia = cleanVelocity(brasilia)\n",
    "\n",
    "velocidade_rio = rio.select(rio['velocidade'])\n",
    "velocidade_bsb = brasilia.select(brasilia['velocidade'])\n",
    "\n",
    "velocidade_rio.write.format(\"delta\").saveAsTable(\"gold_velocidade_rio\")\n",
    "velocidade_bsb.write.format(\"delta\").saveAsTable(\"gold_velocidade_bsb\")\n",
    "\n",
    "\n",
    "velocidade_rio.show()\n"
   ]
  },
  {
   "cell_type": "markdown",
   "metadata": {},
   "source": [
    "Agora iremos realizar as análises de velocidade"
   ]
  },
  {
   "cell_type": "code",
   "execution_count": 39,
   "metadata": {},
   "outputs": [
    {
     "name": "stdout",
     "output_type": "stream",
     "text": [
      "Média RJ: 22.08558642550811 | Média BSB: 16.112476538433995\n"
     ]
    }
   ],
   "source": [
    "from pyspark.sql.functions import avg\n",
    "\n",
    "vel_rj = spark.read.format(\"delta\").table(\"gold_velocidade_rio\")\n",
    "vel_bsb = spark.read.format(\"delta\").table(\"gold_velocidade_bsb\")\n",
    "\n",
    "media_rj = vel_rj.select(avg(vel_rj['velocidade'])).collect()[0][0]\n",
    "media_bsb = vel_bsb.select(avg(vel_bsb['velocidade'])).collect()[0][0]\n",
    "\n",
    "\n",
    "print(f\"Média RJ: {media_rj} | Média BSB: {media_bsb}\")"
   ]
  }
 ],
 "metadata": {
  "kernelspec": {
   "display_name": "Python 3",
   "language": "python",
   "name": "python3"
  },
  "language_info": {
   "codemirror_mode": {
    "name": "ipython",
    "version": 3
   },
   "file_extension": ".py",
   "mimetype": "text/x-python",
   "name": "python",
   "nbconvert_exporter": "python",
   "pygments_lexer": "ipython3",
   "version": "3.11.4"
  }
 },
 "nbformat": 4,
 "nbformat_minor": 2
}
